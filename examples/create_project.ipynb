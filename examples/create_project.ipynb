{
 "cells": [
  {
   "attachments": {},
   "cell_type": "markdown",
   "metadata": {},
   "source": [
    "# Welcome\n",
    "Please note that this is not a Python tutorial. We assume that you are aware of basic Python coding and concepts including the use of ``conda`` and ``pip``. If you did not install pyfar already please do so by running the command\n",
    "\n",
    "``pip install mesh2scattering``\n",
    "\n",
    "After this go to your Python editor of choice and import mesh2scattering\n"
   ]
  },
  {
   "cell_type": "code",
   "execution_count": null,
   "metadata": {},
   "outputs": [],
   "source": [
    "# import dependencies\n",
    "import mesh2scattering as m2s\n",
    "import pyfar as pf\n",
    "import os\n",
    "import numpy as np\n",
    "import matplotlib.pyplot as plt"
   ]
  },
  {
   "attachments": {},
   "cell_type": "markdown",
   "metadata": {},
   "source": [
    "# create the project\n",
    "First we need to set the project path. Here the project will be saved. If you want to create you own project, please change the ``project_path``."
   ]
  },
  {
   "cell_type": "code",
   "execution_count": null,
   "metadata": {},
   "outputs": [],
   "source": [
    "project_path = os.path.join(\n",
    "    m2s.utils.repository_root(), 'examples', 'project')"
   ]
  },
  {
   "attachments": {},
   "cell_type": "markdown",
   "metadata": {},
   "source": [
    "we need to set the paths for the meshes. First for the sample and then for the reference plate. Please notice that the sample should lay on the x-y-plane where z is the hight."
   ]
  },
  {
   "cell_type": "code",
   "execution_count": null,
   "metadata": {},
   "outputs": [],
   "source": [
    "path = os.path.join(\n",
    "    m2s.utils.program_root(), '..',\n",
    "    'tests', 'resources', 'mesh', 'sine_5k')\n",
    "sample_path = os.path.join(path, 'sample.stl')\n",
    "reference_path = os.path.join(path, 'reference.stl')"
   ]
  },
  {
   "attachments": {},
   "cell_type": "markdown",
   "metadata": {},
   "source": [
    "Define the frequency array. For simplicity we just use 3 frequencies. \n",
    "If you want to create 3rd- or 1st octave band frequencies have a look on ``pyfar.dsp.filter.fractional_octave_frequencies``."
   ]
  },
  {
   "cell_type": "code",
   "execution_count": null,
   "metadata": {},
   "outputs": [],
   "source": [
    "frequencies = np.array([1250, 2500, 5000])"
   ]
  },
  {
   "attachments": {},
   "cell_type": "markdown",
   "metadata": {},
   "source": [
    "Now we need to define the source and receiver positions. Therefore we create a sampling grid, including the pole and removing the lower part of the grid."
   ]
  },
  {
   "cell_type": "code",
   "execution_count": null,
   "metadata": {},
   "outputs": [],
   "source": [
    "receiver_delta_deg = 5\n",
    "receiver_radius = 5\n",
    "receiverPoints = pf.samplings.sph_equal_angle(\n",
    "    receiver_delta_deg, receiver_radius)\n",
    "receiverPoints = receiverPoints[receiverPoints.get_sph()[..., 1] < np.pi/2]\n",
    "receiverPoints.show()\n",
    "plt.show()"
   ]
  },
  {
   "attachments": {},
   "cell_type": "markdown",
   "metadata": {},
   "source": [
    "Same for the source positions. The radius is set to 10 according to the diffusion ISO Standard 17497-2."
   ]
  },
  {
   "cell_type": "code",
   "execution_count": null,
   "metadata": {},
   "outputs": [],
   "source": [
    "source_delta_deg = 30\n",
    "source_radius = 10\n",
    "sourcePoints = pf.samplings.sph_equal_angle(\n",
    "    source_delta_deg, source_radius)\n",
    "sourcePoints = sourcePoints[sourcePoints.get_sph()[..., 1] < np.pi/2]\n",
    "sourcePoints.show()\n",
    "plt.show()\n",
    "sourcePoints.get_sph()[..., 0] / np.pi"
   ]
  },
  {
   "attachments": {},
   "cell_type": "markdown",
   "metadata": {},
   "source": [
    "Now we need to set the parameters of the sample. "
   ]
  },
  {
   "cell_type": "code",
   "execution_count": null,
   "metadata": {},
   "outputs": [],
   "source": [
    "structural_wavelength = 0\n",
    "sample_diameter = 0.8\n",
    "model_scale = 2.5"
   ]
  },
  {
   "attachments": {},
   "cell_type": "markdown",
   "metadata": {},
   "source": [
    "Furthermore we need to define the symmetry properties of the sample. In our case we have a sine-shaped surface, so the sample is symmetrical to the x-axe and y-axe, therefore we set the ``symmetry_azimuth`` to 90 and 180 degree. A rotational symmetry is not give, so we set it to ``False``."
   ]
  },
  {
   "cell_type": "code",
   "execution_count": null,
   "metadata": {},
   "outputs": [],
   "source": [
    "symmetry_azimuth = [90, 180]\n",
    "symmetry_rotational = False"
   ]
  },
  {
   "attachments": {},
   "cell_type": "markdown",
   "metadata": {},
   "source": [
    "This symmetry settings are required for the postprocessing and and we can speed up our simulating by skipping incident angles and calculate them in the postprocessing by mirroring the existing data. Therefore we can skip the azimuth angles grater than 90 degree for the source positions."
   ]
  },
  {
   "cell_type": "code",
   "execution_count": null,
   "metadata": {},
   "outputs": [],
   "source": [
    "\n",
    "sourcePoints_reduced = sourcePoints[sourcePoints.get_sph()[..., 0] <= np.pi/2]\n",
    "sourcePoints_reduced.show()\n",
    "plt.show()"
   ]
  },
  {
   "attachments": {},
   "cell_type": "markdown",
   "metadata": {},
   "source": [
    "Now we can create the project. Please notice that the project was already created and simulated for demo."
   ]
  },
  {
   "cell_type": "code",
   "execution_count": null,
   "metadata": {},
   "outputs": [],
   "source": [
    "m2s.input.write_scattering_project(\n",
    "    project_path=project_path,\n",
    "    frequencies=frequencies,\n",
    "    sample_path=sample_path,\n",
    "    reference_path=reference_path,\n",
    "    receiver_coords=receiverPoints,\n",
    "    source_coords=sourcePoints_reduced,\n",
    "    structural_wavelength=structural_wavelength,\n",
    "    model_scale=model_scale,\n",
    "    sample_diameter=sample_diameter,\n",
    "    symmetry_azimuth=symmetry_azimuth,\n",
    "    symmetry_rotational=symmetry_rotational,\n",
    "    )"
   ]
  },
  {
   "attachments": {},
   "cell_type": "markdown",
   "metadata": {},
   "source": [
    "# run project\n",
    "To execute the project you need to build the ``NumCalc`` project. Please follow the instruction for your operation system in the readme. Then you can set the path to the numcalc executable. Usually there is no need to change it."
   ]
  },
  {
   "cell_type": "code",
   "execution_count": null,
   "metadata": {},
   "outputs": [],
   "source": [
    "numcalc_path = os.path.join(m2s.utils.program_root(), 'numcalc', 'bin', 'NumCalc')"
   ]
  },
  {
   "attachments": {},
   "cell_type": "markdown",
   "metadata": {},
   "source": [
    "Now we can run the simulation, this may take some time. This example is already simulated so we don't need to wait. "
   ]
  },
  {
   "cell_type": "code",
   "execution_count": null,
   "metadata": {},
   "outputs": [],
   "source": [
    "m2s.numcalc.manage_numcalc(project_path, numcalc_path)"
   ]
  },
  {
   "attachments": {},
   "cell_type": "markdown",
   "metadata": {},
   "source": [
    "# Post processing\n",
    "Now we need to create the scattering pattern sofa files out of the simulation results. Here the symmetry is also applied. <since the reference sample is always rotational symmetric, the data for the missing angles are rotated in this was sample and reference  data will have the same dimensions and coordinate"
   ]
  },
  {
   "cell_type": "code",
   "execution_count": null,
   "metadata": {},
   "outputs": [],
   "source": [
    "m2s.output.write_pattern(project_path)"
   ]
  },
  {
   "cell_type": "markdown",
   "metadata": {},
   "source": []
  }
 ],
 "metadata": {
  "kernelspec": {
   "display_name": "mesh2scattering",
   "language": "python",
   "name": "python3"
  },
  "language_info": {
   "codemirror_mode": {
    "name": "ipython",
    "version": 3
   },
   "file_extension": ".py",
   "mimetype": "text/x-python",
   "name": "python",
   "nbconvert_exporter": "python",
   "pygments_lexer": "ipython3",
   "version": "3.10.9"
  },
  "orig_nbformat": 4,
  "vscode": {
   "interpreter": {
    "hash": "dfa74d76a0d805b005e2cbe22d9775ef39696d41c30b2650adcc71f4f4f15eed"
   }
  }
 },
 "nbformat": 4,
 "nbformat_minor": 2
}
